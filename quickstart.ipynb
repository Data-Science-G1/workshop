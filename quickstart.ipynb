{
 "cells": [
  {
   "cell_type": "markdown",
   "source": [
    "# Classification\n",
    "Importation de Tensorflow avec comme alias tf"
   ],
   "metadata": {
    "collapsed": false
   }
  },
  {
   "cell_type": "code",
   "execution_count": null,
   "outputs": [
    {
     "name": "stdout",
     "output_type": "stream",
     "text": [
      "Requirement already satisfied: tensorflow in /opt/homebrew/anaconda3/envs/workshop/lib/python3.9/site-packages (2.6.0)\r\n",
      "Requirement already satisfied: flatbuffers~=1.12.0 in /opt/homebrew/anaconda3/envs/workshop/lib/python3.9/site-packages (from tensorflow) (1.12)\r\n",
      "Requirement already satisfied: six~=1.15.0 in /opt/homebrew/anaconda3/envs/workshop/lib/python3.9/site-packages (from tensorflow) (1.15.0)\r\n",
      "Requirement already satisfied: keras~=2.6 in /opt/homebrew/anaconda3/envs/workshop/lib/python3.9/site-packages (from tensorflow) (2.6.0)\r\n",
      "Requirement already satisfied: opt-einsum~=3.3.0 in /opt/homebrew/anaconda3/envs/workshop/lib/python3.9/site-packages (from tensorflow) (3.3.0)\r\n",
      "Requirement already satisfied: tensorflow-estimator~=2.6 in /opt/homebrew/anaconda3/envs/workshop/lib/python3.9/site-packages (from tensorflow) (2.6.0)\r\n",
      "Requirement already satisfied: h5py~=3.1.0 in /opt/homebrew/anaconda3/envs/workshop/lib/python3.9/site-packages (from tensorflow) (3.1.0)\r\n",
      "Requirement already satisfied: termcolor~=1.1.0 in /opt/homebrew/anaconda3/envs/workshop/lib/python3.9/site-packages (from tensorflow) (1.1.0)\r\n",
      "Requirement already satisfied: typing-extensions~=3.7.4 in /opt/homebrew/anaconda3/envs/workshop/lib/python3.9/site-packages (from tensorflow) (3.7.4.3)\r\n",
      "Requirement already satisfied: wrapt~=1.12.1 in /opt/homebrew/anaconda3/envs/workshop/lib/python3.9/site-packages (from tensorflow) (1.12.1)\r\n",
      "Requirement already satisfied: gast==0.4.0 in /opt/homebrew/anaconda3/envs/workshop/lib/python3.9/site-packages (from tensorflow) (0.4.0)\r\n",
      "Requirement already satisfied: protobuf>=3.9.2 in /opt/homebrew/anaconda3/envs/workshop/lib/python3.9/site-packages (from tensorflow) (3.18.0)\r\n",
      "Requirement already satisfied: astunparse~=1.6.3 in /opt/homebrew/anaconda3/envs/workshop/lib/python3.9/site-packages (from tensorflow) (1.6.3)\r\n",
      "Requirement already satisfied: google-pasta~=0.2 in /opt/homebrew/anaconda3/envs/workshop/lib/python3.9/site-packages (from tensorflow) (0.2.0)\r\n",
      "Requirement already satisfied: clang~=5.0 in /opt/homebrew/anaconda3/envs/workshop/lib/python3.9/site-packages (from tensorflow) (5.0)\r\n",
      "Requirement already satisfied: absl-py~=0.10 in /opt/homebrew/anaconda3/envs/workshop/lib/python3.9/site-packages (from tensorflow) (0.14.0)\r\n",
      "Requirement already satisfied: tensorboard~=2.6 in /opt/homebrew/anaconda3/envs/workshop/lib/python3.9/site-packages (from tensorflow) (2.6.0)\r\n",
      "Requirement already satisfied: numpy~=1.19.2 in /opt/homebrew/anaconda3/envs/workshop/lib/python3.9/site-packages (from tensorflow) (1.19.5)\r\n",
      "Requirement already satisfied: wheel~=0.35 in /opt/homebrew/anaconda3/envs/workshop/lib/python3.9/site-packages (from tensorflow) (0.37.0)\r\n",
      "Requirement already satisfied: keras-preprocessing~=1.1.2 in /opt/homebrew/anaconda3/envs/workshop/lib/python3.9/site-packages (from tensorflow) (1.1.2)\r\n",
      "Requirement already satisfied: grpcio<2.0,>=1.37.0 in /opt/homebrew/anaconda3/envs/workshop/lib/python3.9/site-packages (from tensorflow) (1.40.0)\r\n",
      "Requirement already satisfied: google-auth<2,>=1.6.3 in /opt/homebrew/anaconda3/envs/workshop/lib/python3.9/site-packages (from tensorboard~=2.6->tensorflow) (1.35.0)\r\n",
      "Requirement already satisfied: tensorboard-data-server<0.7.0,>=0.6.0 in /opt/homebrew/anaconda3/envs/workshop/lib/python3.9/site-packages (from tensorboard~=2.6->tensorflow) (0.6.1)\r\n",
      "Requirement already satisfied: werkzeug>=0.11.15 in /opt/homebrew/anaconda3/envs/workshop/lib/python3.9/site-packages (from tensorboard~=2.6->tensorflow) (2.0.1)\r\n",
      "Requirement already satisfied: markdown>=2.6.8 in /opt/homebrew/anaconda3/envs/workshop/lib/python3.9/site-packages (from tensorboard~=2.6->tensorflow) (3.3.4)\r\n",
      "Requirement already satisfied: requests<3,>=2.21.0 in /opt/homebrew/anaconda3/envs/workshop/lib/python3.9/site-packages (from tensorboard~=2.6->tensorflow) (2.26.0)\r\n",
      "Requirement already satisfied: google-auth-oauthlib<0.5,>=0.4.1 in /opt/homebrew/anaconda3/envs/workshop/lib/python3.9/site-packages (from tensorboard~=2.6->tensorflow) (0.4.6)\r\n",
      "Requirement already satisfied: setuptools>=41.0.0 in /opt/homebrew/anaconda3/envs/workshop/lib/python3.9/site-packages (from tensorboard~=2.6->tensorflow) (58.0.4)\r\n",
      "Requirement already satisfied: tensorboard-plugin-wit>=1.6.0 in /opt/homebrew/anaconda3/envs/workshop/lib/python3.9/site-packages (from tensorboard~=2.6->tensorflow) (1.8.0)\r\n",
      "Requirement already satisfied: pyasn1-modules>=0.2.1 in /opt/homebrew/anaconda3/envs/workshop/lib/python3.9/site-packages (from google-auth<2,>=1.6.3->tensorboard~=2.6->tensorflow) (0.2.8)\r\n",
      "Requirement already satisfied: cachetools<5.0,>=2.0.0 in /opt/homebrew/anaconda3/envs/workshop/lib/python3.9/site-packages (from google-auth<2,>=1.6.3->tensorboard~=2.6->tensorflow) (4.2.2)\r\n",
      "Requirement already satisfied: rsa<5,>=3.1.4 in /opt/homebrew/anaconda3/envs/workshop/lib/python3.9/site-packages (from google-auth<2,>=1.6.3->tensorboard~=2.6->tensorflow) (4.7.2)\r\n",
      "Requirement already satisfied: requests-oauthlib>=0.7.0 in /opt/homebrew/anaconda3/envs/workshop/lib/python3.9/site-packages (from google-auth-oauthlib<0.5,>=0.4.1->tensorboard~=2.6->tensorflow) (1.3.0)\r\n",
      "Requirement already satisfied: pyasn1<0.5.0,>=0.4.6 in /opt/homebrew/anaconda3/envs/workshop/lib/python3.9/site-packages (from pyasn1-modules>=0.2.1->google-auth<2,>=1.6.3->tensorboard~=2.6->tensorflow) (0.4.8)\r\n",
      "Requirement already satisfied: charset-normalizer~=2.0.0 in /opt/homebrew/anaconda3/envs/workshop/lib/python3.9/site-packages (from requests<3,>=2.21.0->tensorboard~=2.6->tensorflow) (2.0.6)\r\n",
      "Requirement already satisfied: certifi>=2017.4.17 in /opt/homebrew/anaconda3/envs/workshop/lib/python3.9/site-packages (from requests<3,>=2.21.0->tensorboard~=2.6->tensorflow) (2021.5.30)\r\n",
      "Requirement already satisfied: urllib3<1.27,>=1.21.1 in /opt/homebrew/anaconda3/envs/workshop/lib/python3.9/site-packages (from requests<3,>=2.21.0->tensorboard~=2.6->tensorflow) (1.26.7)\r\n",
      "Requirement already satisfied: idna<4,>=2.5 in /opt/homebrew/anaconda3/envs/workshop/lib/python3.9/site-packages (from requests<3,>=2.21.0->tensorboard~=2.6->tensorflow) (3.2)\r\n",
      "Requirement already satisfied: oauthlib>=3.0.0 in /opt/homebrew/anaconda3/envs/workshop/lib/python3.9/site-packages (from requests-oauthlib>=0.7.0->google-auth-oauthlib<0.5,>=0.4.1->tensorboard~=2.6->tensorflow) (3.1.1)\r\n"
     ]
    }
   ],
   "source": [
    "import sys\n",
    "!{sys.executable} -m pip install tensorflow\n",
    "\n",
    "import tensorflow as tf"
   ],
   "metadata": {
    "collapsed": false,
    "pycharm": {
     "name": "#%%\n",
     "is_executing": true
    }
   }
  },
  {
   "cell_type": "markdown",
   "source": [
    "Récupérer le dataset et convertir les nombres sous le format float"
   ],
   "metadata": {
    "collapsed": false
   }
  },
  {
   "cell_type": "code",
   "execution_count": null,
   "outputs": [],
   "source": [
    "mnist = tf.keras.datasets.mnist\n",
    "\n",
    "(x_train, y_train), (x_test, y_test) = mnist.load_data()\n",
    "x_train, x_test = x_train / 255.0, x_test / 255.0"
   ],
   "metadata": {
    "collapsed": false,
    "pycharm": {
     "name": "#%%\n",
     "is_executing": true
    }
   }
  },
  {
   "cell_type": "markdown",
   "source": [
    "Mise en place du model par empilement de couche avec `tf.keras.Sequential`"
   ],
   "metadata": {
    "collapsed": false
   }
  },
  {
   "cell_type": "code",
   "execution_count": null,
   "outputs": [],
   "source": [
    "model = tf.keras.models.Sequential([\n",
    "  tf.keras.layers.Flatten(input_shape=(28, 28)),\n",
    "  tf.keras.layers.Dense(128, activation='relu'),\n",
    "  tf.keras.layers.Dropout(0.2),\n",
    "  tf.keras.layers.Dense(10)\n",
    "])"
   ],
   "metadata": {
    "collapsed": false,
    "pycharm": {
     "name": "#%%\n",
     "is_executing": true
    }
   }
  },
  {
   "cell_type": "code",
   "execution_count": null,
   "outputs": [],
   "source": [
    "predictions = model(x_train[:1]).numpy()\n",
    "predictions"
   ],
   "metadata": {
    "collapsed": false,
    "pycharm": {
     "name": "#%%\n",
     "is_executing": true
    }
   }
  },
  {
   "cell_type": "markdown",
   "source": [
    "La fonction `tf.nn.softmax` convertit les logits en probalités pour chaque classe\n"
   ],
   "metadata": {
    "collapsed": false
   }
  },
  {
   "cell_type": "code",
   "execution_count": null,
   "outputs": [],
   "source": [
    "tf.nn.softmax(predictions).numpy()"
   ],
   "metadata": {
    "collapsed": false,
    "pycharm": {
     "name": "#%%\n",
     "is_executing": true
    }
   }
  },
  {
   "cell_type": "markdown",
   "source": [
    "La perte `losses.SparseCategoricalCrossentropy` prend un vecteur de logits et un indice `True` et renvoie une perte scalaire pour chaque exemple."
   ],
   "metadata": {
    "collapsed": false
   }
  },
  {
   "cell_type": "code",
   "execution_count": null,
   "outputs": [],
   "source": [
    "loss_fn = tf.keras.losses.SparseCategoricalCrossentropy(from_logits=True)"
   ],
   "metadata": {
    "collapsed": false,
    "pycharm": {
     "name": "#%%\n",
     "is_executing": true
    }
   }
  },
  {
   "cell_type": "markdown",
   "source": [
    "Cette perte est égale au log de probabilité négatif de la vraie classe : elle est nulle si le modèle est sûr de la bonne classe.\n",
    "\n",
    "Ce modèle non entraîné donne des probabilités proches du hasard (1/10 pour chaque classe), donc la perte initiale devrait être proche de `-tf.math.log(1/10) ~= 2.3`."
   ],
   "metadata": {
    "collapsed": false
   }
  },
  {
   "cell_type": "code",
   "execution_count": null,
   "outputs": [],
   "source": [
    "loss_fn(y_train[:1], predictions).numpy()"
   ],
   "metadata": {
    "collapsed": false,
    "pycharm": {
     "name": "#%%\n",
     "is_executing": true
    }
   }
  },
  {
   "cell_type": "code",
   "execution_count": null,
   "outputs": [],
   "source": [
    "model.compile(optimizer='adam',\n",
    "              loss=loss_fn,\n",
    "              metrics=['accuracy'])"
   ],
   "metadata": {
    "collapsed": false,
    "pycharm": {
     "name": "#%%\n",
     "is_executing": true
    }
   }
  },
  {
   "cell_type": "markdown",
   "source": [
    "La méthode `Model.fit` ajuste les paramètres du modèle pour minimiser la perte :"
   ],
   "metadata": {
    "collapsed": false
   }
  },
  {
   "cell_type": "code",
   "execution_count": null,
   "outputs": [],
   "source": [
    "model.fit(x_train, y_train, epochs=5)"
   ],
   "metadata": {
    "collapsed": false,
    "pycharm": {
     "name": "#%%\n",
     "is_executing": true
    }
   }
  },
  {
   "cell_type": "markdown",
   "source": [
    "La méthode `Model.evaluate` vérifie les performances des modèles, généralement sur un \"[Validation-set](https://developers.google.com/machine-learning/glossary#validation-set)\" ou \"[Test-set](https://developers.google.com/machine-learning/glossary#test-set)\"."
   ],
   "metadata": {
    "collapsed": false
   }
  },
  {
   "cell_type": "code",
   "execution_count": null,
   "outputs": [],
   "source": [
    "model.evaluate(x_test,  y_test, verbose=2)"
   ],
   "metadata": {
    "collapsed": false,
    "pycharm": {
     "name": "#%%\n",
     "is_executing": true
    }
   }
  },
  {
   "cell_type": "markdown",
   "source": [
    "Le classificateur d'images est maintenant entraîné à une précision d'environ 98 % sur cet ensemble de données. Pour en savoir plus, lisez les [TensorFlow tutorials](https://www.tensorflow.org/tutorials/)."
   ],
   "metadata": {
    "collapsed": false
   }
  },
  {
   "cell_type": "markdown",
   "source": [
    "Si vous souhaitez que votre modèle renvoie une probabilité, vous pouvez envelopper le modèle entraîné et lui attacher le softmax :"
   ],
   "metadata": {
    "collapsed": false
   }
  },
  {
   "cell_type": "code",
   "execution_count": null,
   "outputs": [],
   "source": [
    "probability_model = tf.keras.Sequential([\n",
    "  model,\n",
    "  tf.keras.layers.Softmax()\n",
    "])"
   ],
   "metadata": {
    "collapsed": false,
    "pycharm": {
     "name": "#%%\n",
     "is_executing": true
    }
   }
  },
  {
   "cell_type": "code",
   "execution_count": null,
   "outputs": [],
   "source": [
    "probability_model(x_test[:5])\n"
   ],
   "metadata": {
    "collapsed": false,
    "pycharm": {
     "name": "#%%\n",
     "is_executing": true
    }
   }
  }
 ],
 "metadata": {
  "kernelspec": {
   "display_name": "Python 3",
   "language": "python",
   "name": "python3"
  },
  "language_info": {
   "codemirror_mode": {
    "name": "ipython",
    "version": 2
   },
   "file_extension": ".py",
   "mimetype": "text/x-python",
   "name": "python",
   "nbconvert_exporter": "python",
   "pygments_lexer": "ipython2",
   "version": "2.7.6"
  }
 },
 "nbformat": 4,
 "nbformat_minor": 0
}